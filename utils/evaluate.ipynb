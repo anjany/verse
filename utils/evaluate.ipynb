{
 "cells": [
  {
   "cell_type": "markdown",
   "id": "periodic-optics",
   "metadata": {},
   "source": [
    "## Evaluation Utilities\n",
    "\n",
    "This notebook guides provides a sample evaluation walktrough for identification rate (id.rate for labelling)\n",
    "and Dice score (for segmentation). \n",
    "\n",
    "Please look at the data_utilities notebook for data-preperation!  \n",
    "\n",
    "**Note**: We do not provide scripts for Hausdorff distance and localisation distance.\n",
    "    Eventhough they were used for the benchamrking process, these were not used for VerSe'20. \n",
    "    This is because of their invalidity when evaluating 'missed vertebrae'. "
   ]
  },
  {
   "cell_type": "code",
   "execution_count": 1,
   "id": "dried-electron",
   "metadata": {},
   "outputs": [],
   "source": [
    "## imports\n",
    "\n",
    "# libraries\n",
    "import os\n",
    "import numpy as np\n",
    "import nibabel as nib\n",
    "import nibabel.orientations as nio\n",
    "import matplotlib.pyplot as plt\n",
    "\n",
    "# custom\n",
    "import data_utilities as dutils\n",
    "import eval_utilities as eutils "
   ]
  },
  {
   "cell_type": "code",
   "execution_count": 2,
   "id": "specialized-ladder",
   "metadata": {},
   "outputs": [],
   "source": [
    "## paths\n",
    "\n",
    "directory = os.path.join(os.getcwd(),'sample')\n",
    "\n",
    "true_msk = nib.load(os.path.join(directory,'sub-verse004_seg-vert_msk.nii.gz')) \n",
    "pred_msk = nib.load(os.path.join(directory,'sub-verse004_seg-vert_msk.nii.gz')) # use the same file for example\n",
    "\n",
    "true_ctd = dutils.load_centroids(os.path.join(directory,'sub-verse004_seg-subreg_ctd.json'))\n",
    "pred_ctd = dutils.load_centroids(os.path.join(directory,'sub-verse004_seg-subreg_ctd.json'))"
   ]
  },
  {
   "cell_type": "code",
   "execution_count": 3,
   "id": "parliamentary-kazakhstan",
   "metadata": {},
   "outputs": [
    {
     "name": "stdout",
     "output_type": "stream",
     "text": [
      "[*] Image resampled to voxel size: (1, 1, 1)\n",
      "[*] Rescaled centroid coordinates to spacing (x, y, z) = (1, 1, 1) mm\n",
      "[*] Image resampled to voxel size: (1, 1, 1)\n",
      "[*] Rescaled centroid coordinates to spacing (x, y, z) = (1, 1, 1) mm\n"
     ]
    }
   ],
   "source": [
    "## pre-process (evaluation was done at 1mm because annotations were performed at 1mm)\n",
    "\n",
    "true_msk = dutils.resample_nib(true_msk, voxel_spacing=(1, 1, 1), order=0) # or resample based on img: resample_mask_to(msk_nib, img_iso)\n",
    "true_ctd = dutils.rescale_centroids(true_ctd, true_msk, (1,1,1))\n",
    "\n",
    "pred_msk = dutils.resample_nib(pred_msk, voxel_spacing=(1, 1, 1), order=0) # or resample based on img: resample_mask_to(msk_nib, img_iso)\n",
    "pred_ctd = dutils.rescale_centroids(pred_ctd, pred_msk, (1,1,1))"
   ]
  },
  {
   "cell_type": "code",
   "execution_count": 4,
   "id": "distinct-cornell",
   "metadata": {},
   "outputs": [
    {
     "name": "stdout",
     "output_type": "stream",
     "text": [
      "Dice:1.00\n"
     ]
    }
   ],
   "source": [
    "## compute dice\n",
    "\n",
    "true_msk_arr =  true_msk.get_fdata()\n",
    "pred_msk_arr =  pred_msk.get_fdata()\n",
    "\n",
    "\n",
    "dice = eutils.compute_dice(pred_msk_arr, true_msk_arr)\n",
    "\n",
    "print('Dice:{:.2f}'.format(dice))"
   ]
  },
  {
   "cell_type": "code",
   "execution_count": 5,
   "id": "private-affiliate",
   "metadata": {},
   "outputs": [
    {
     "name": "stdout",
     "output_type": "stream",
     "text": [
      "id.rate:1.00\n",
      "\n",
      "Hits:\n",
      " [nan nan nan nan nan nan nan nan nan nan nan nan nan nan nan  1.  1.  1.\n",
      "  1.  1.  1.  1.  1.  1. nan nan nan nan]\n"
     ]
    }
   ],
   "source": [
    "## compute id_rate\n",
    "\n",
    "MAX_VERT_IDX = 28 # (in VerSe20, T13 has an index of 28)\n",
    "\n",
    "# create an array of shape (MAX_VERT_IDX, 3), \n",
    "# i_th row contain centroid for (i+1)_th vertebra. Rest are NaNs\n",
    "\n",
    "def prepare_ctd_array(ctd_list, max_vert_idx):\n",
    "    ctd_arr = np.full((max_vert_idx, 3), np.nan)\n",
    "    for item in ctd_list[1:]: # first entry contains orientation \n",
    "        vert_idx = item[0]\n",
    "        if vert_idx <= max_vert_idx:\n",
    "            X = item[1]\n",
    "            Y = item[2]\n",
    "            Z = item[3]\n",
    "            ctd_arr[vert_idx - 1, :] = [X, Y, Z]\n",
    "    return ctd_arr\n",
    "\n",
    "true_ctd_arr =  prepare_ctd_array(true_ctd, MAX_VERT_IDX)\n",
    "pred_ctd_arr =  prepare_ctd_array(pred_ctd, MAX_VERT_IDX)\n",
    "\n",
    "# get number of successful hits (identifications)\n",
    "\n",
    "num_hits, hit_list = eutils.get_hits(true_ctd_arr, pred_ctd_arr, MAX_VERT_IDX)\n",
    "verts_in_gt        = np.argwhere(~np.isnan(true_ctd_arr[:, 0])).reshape(-1) + 1  # list of vertebrae present in annotation\n",
    "\n",
    "print('id.rate:{:.2f}\\n'.format(num_hits/len(verts_in_gt)))\n",
    "print('Hits:\\n', hit_list) # nan : vertebrae is absent. 1 : successful identifcation. 0 : failed identification\n"
   ]
  },
  {
   "cell_type": "code",
   "execution_count": null,
   "id": "million-queen",
   "metadata": {},
   "outputs": [],
   "source": []
  }
 ],
 "metadata": {
  "kernelspec": {
   "display_name": "Python 3",
   "language": "python",
   "name": "python3"
  },
  "language_info": {
   "codemirror_mode": {
    "name": "ipython",
    "version": 3
   },
   "file_extension": ".py",
   "mimetype": "text/x-python",
   "name": "python",
   "nbconvert_exporter": "python",
   "pygments_lexer": "ipython3",
   "version": "3.9.2"
  }
 },
 "nbformat": 4,
 "nbformat_minor": 5
}
